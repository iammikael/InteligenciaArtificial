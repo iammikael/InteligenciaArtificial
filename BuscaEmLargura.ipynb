{
  "cells": [
    {
      "cell_type": "markdown",
      "metadata": {
        "id": "view-in-github",
        "colab_type": "text"
      },
      "source": [
        "<a href=\"https://colab.research.google.com/github/iammikael/InteligenciaArtificial/blob/main/BuscaEmLargura.ipynb\" target=\"_parent\"><img src=\"https://colab.research.google.com/assets/colab-badge.svg\" alt=\"Open In Colab\"/></a>"
      ]
    },
    {
      "cell_type": "code",
      "source": [
        "def apresenta_solucao(estado, predecessores):\n",
        "  caminho = []\n",
        "  caminho.append(estado)\n",
        "  while predecessores[estado] != None:\n",
        "    caminho.append(predecessores[estado])\n",
        "    estado = predecessores[estado]\n",
        "  caminho = caminho[::-1]\n",
        "  print(caminho)"
      ],
      "metadata": {
        "id": "r_S2-gcQOjIC"
      },
      "execution_count": 7,
      "outputs": []
    },
    {
      "cell_type": "code",
      "source": [
        "def encontra_estados_sucessores (matriz, M, N, posicao_atual):\n",
        "    i = posicao_atual[0]\n",
        "    j = posicao_atual[1]\n",
        "    estados_sucessores = []\n",
        "    if i > 0 and matriz[i-1][j] != '2': # Move para cima na matriz.\n",
        "        estados_sucessores.append ((i-1, j))\n",
        "    if i+1 < M and matriz[i+1][j] != '2': # Move para baixo na matriz.\n",
        "        estados_sucessores.append ((i+1, j))\n",
        "    if j > 0 and matriz[i][j-1] != '2': # Move para esquerda na matriz.\n",
        "        estados_sucessores.append ((i, j-1))\n",
        "    if j+1 < N and matriz[i][j+1] != '2': # Move para direita na matriz.\n",
        "        estados_sucessores.append ((i, j+1))\n",
        "    if j > 0 and i > 0 and matriz[i-1][j-1] != '2': # Move diagonalmente para esq sup.\n",
        "        estados_sucessores.append ((i-1, j-1))\n",
        "    if j > 0 and i+1 < M and matriz[i+1][j-1] != '2': # Move diagonalmente para esq inf.\n",
        "        estados_sucessores.append ((i+1, j-1))\n",
        "    if j+1 < N and i > 0 and matriz[i-1][j+1] != '2': # Move diagonalmente para dir sup.\n",
        "        estados_sucessores.append ((i-1, j+1))\n",
        "    if j+1 < N and i+1 < M and matriz[i+1][j+1] != '2': # Move diagonalmente para dir inf.\n",
        "        estados_sucessores.append ((i+1, j+1))\n",
        "    return estados_sucessores"
      ],
      "metadata": {
        "id": "_GwcGNpV-HdJ"
      },
      "execution_count": 8,
      "outputs": []
    },
    {
      "cell_type": "code",
      "source": [
        "def busca_em_largura(matriz,M,N,estado_inicial,estado_final):\n",
        "          estados_visitados = []\n",
        "          estados_expandidos = []\n",
        "          predecessores = {}\n",
        "          solucao_encontrada = False\n",
        "          estados_visitados.append(estado_inicial)\n",
        "          predecessores[estado_inicial] = None\n",
        "          while len(estados_visitados) !=0:\n",
        "            estado = estados_visitados.pop(0)\n",
        "            if estado in estado_final:\n",
        "              solucao_encontrada = True\n",
        "              break\n",
        "            estados_sucessores = encontra_estados_sucessores(matriz,M,N,estado)\n",
        "            estados_expandidos.append(estado)\n",
        "            for i in range(0,len(estados_sucessores)):\n",
        "              sucessor = estados_sucessores[i]\n",
        "              if sucessor not in estados_visitados and sucessor not in estados_expandidos:\n",
        "                estados_visitados.append(estados_sucessores[i])\n",
        "                predecessores[estados_sucessores[i]] = estado\n",
        "          if solucao_encontrada == True:\n",
        "            apresenta_solucao(estado, predecessores)\n",
        "          else:\n",
        "            print(\"Solução não encontrada\")"
      ],
      "metadata": {
        "id": "S-jp3UDF-d8i"
      },
      "execution_count": 9,
      "outputs": []
    },
    {
      "cell_type": "code",
      "source": [
        "def encontraPosicoes(matriz, M, N, valor):\n",
        "          posicoes = []\n",
        "          for i in range(0,M):\n",
        "            for j in range(0,N):\n",
        "              if matriz[i][j] == valor:\n",
        "                posicoes.append((i, j))\n",
        "          return posicoes"
      ],
      "metadata": {
        "id": "ZCWTEJJE90aT"
      },
      "execution_count": 10,
      "outputs": []
    },
    {
      "cell_type": "code",
      "source": [
        "M = 4 #linhas\n",
        "N = 5 #colunas\n",
        "\n",
        "matriz = [['0','1','1','1','1'],\n",
        "          ['0','2','2','2','1'],\n",
        "          ['2','1','1','1','1'],\n",
        "          ['1','1','1','3','1']]\n",
        "\n",
        "estado_inicial = encontraPosicoes(matriz,M,N,'3')\n",
        "estado_final = encontraPosicoes(matriz,M,N,'0')"
      ],
      "metadata": {
        "id": "fwQyw4r09Svj"
      },
      "execution_count": 11,
      "outputs": []
    },
    {
      "cell_type": "code",
      "source": [
        "busca_em_largura(matriz,M,N,estado_inicial[0],estado_final)"
      ],
      "metadata": {
        "colab": {
          "base_uri": "https://localhost:8080/"
        },
        "id": "o7H5yG_mOu3p",
        "outputId": "ec80d67e-2d07-4e71-d347-a9f6dabfad2b"
      },
      "execution_count": 13,
      "outputs": [
        {
          "output_type": "stream",
          "name": "stdout",
          "text": [
            "[(3, 3), (3, 2), (2, 1), (1, 0)]\n"
          ]
        }
      ]
    }
  ],
  "metadata": {
    "colab": {
      "toc_visible": true,
      "provenance": [],
      "include_colab_link": true
    },
    "kernelspec": {
      "display_name": "Python 3",
      "name": "python3"
    }
  },
  "nbformat": 4,
  "nbformat_minor": 0
}